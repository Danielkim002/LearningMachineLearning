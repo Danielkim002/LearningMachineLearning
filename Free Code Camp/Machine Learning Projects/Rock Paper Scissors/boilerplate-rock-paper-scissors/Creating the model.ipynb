{
 "cells": [
  {
   "cell_type": "code",
   "execution_count": null,
   "id": "e87a81e7",
   "metadata": {},
   "outputs": [],
   "source": [
    "import pandas as pd\n",
    "import numpy as np\n",
    "import tensorflow as tf\n",
    "# Read the csv file\n",
    "df = pd.read_csv('data.csv', header=None)\n",
    "\n",
    "# Remove empty rows\n",
    "df = df.replace(np.nan,0)\n",
    "\n",
    "# Convert the dataframe to a numpy array\n",
    "data = df.to_numpy()"
   ]
  },
  {
   "cell_type": "code",
   "execution_count": null,
   "id": "0f67916e",
   "metadata": {},
   "outputs": [],
   "source": [
    "data"
   ]
  },
  {
   "cell_type": "code",
   "execution_count": null,
   "id": "e56b7674",
   "metadata": {},
   "outputs": [],
   "source": [
    "data.shape"
   ]
  },
  {
   "cell_type": "code",
   "execution_count": null,
   "id": "0c7e7194",
   "metadata": {},
   "outputs": [],
   "source": [
    "Mapping = {'R':1,'P':2,'S':3}\n",
    "\n",
    "def map_values(x):\n",
    "    return Mapping.get(x, x)"
   ]
  },
  {
   "cell_type": "code",
   "execution_count": null,
   "id": "8c5830c6",
   "metadata": {},
   "outputs": [],
   "source": [
    "vectorized_map_values = np.vectorize(map_values)\n",
    "converted_data = vectorized_map_values(data)"
   ]
  },
  {
   "cell_type": "code",
   "execution_count": null,
   "id": "47dbe7c1",
   "metadata": {},
   "outputs": [],
   "source": [
    "converted_data.dtype"
   ]
  },
  {
   "cell_type": "code",
   "execution_count": null,
   "id": "106cd2c5",
   "metadata": {},
   "outputs": [],
   "source": [
    "segments = []\n",
    "\n",
    "for i in range(0, converted_data.shape[1] - 20):\n",
    "    segment = converted_data[0][i:i+20]\n",
    "    segments.append(segment)\n"
   ]
  },
  {
   "cell_type": "code",
   "execution_count": null,
   "id": "0c04267d",
   "metadata": {},
   "outputs": [],
   "source": [
    "segments"
   ]
  },
  {
   "cell_type": "code",
   "execution_count": null,
   "id": "c36f87f5",
   "metadata": {},
   "outputs": [],
   "source": [
    "dataset = tf.data.Dataset.from_tensor_slices(converted_data)"
   ]
  },
  {
   "cell_type": "code",
   "execution_count": null,
   "id": "b2bf73eb",
   "metadata": {},
   "outputs": [],
   "source": []
  },
  {
   "cell_type": "code",
   "execution_count": null,
   "id": "4cfd8488",
   "metadata": {},
   "outputs": [],
   "source": [
    "BATCH_SIZE = 20\n",
    "batched_data= dataset.batch(BATCH_SIZE+1, drop_remainder=True)"
   ]
  },
  {
   "cell_type": "code",
   "execution_count": null,
   "id": "56105b57",
   "metadata": {},
   "outputs": [],
   "source": [
    "def split_input_target(chunk):  \n",
    "    input_text = chunk[:-1]  \n",
    "    target_text = chunk[1:]  \n",
    "    return input_text, target_text\n",
    "\n",
    "dataset = batched_data.map(split_input_target)"
   ]
  },
  {
   "cell_type": "code",
   "execution_count": null,
   "id": "d281a239",
   "metadata": {},
   "outputs": [],
   "source": [
    "dataset"
   ]
  },
  {
   "cell_type": "code",
   "execution_count": null,
   "id": "25d72a9c",
   "metadata": {},
   "outputs": [],
   "source": [
    "batched_data\n"
   ]
  },
  {
   "cell_type": "code",
   "execution_count": null,
   "id": "f6895136",
   "metadata": {},
   "outputs": [],
   "source": [
    "data = dataset.shuffle(1000).batch(20,drop_remainder = True)"
   ]
  },
  {
   "cell_type": "code",
   "execution_count": null,
   "id": "bc477c53",
   "metadata": {},
   "outputs": [],
   "source": [
    "data"
   ]
  },
  {
   "cell_type": "code",
   "execution_count": null,
   "id": "94baebcb",
   "metadata": {},
   "outputs": [],
   "source": [
    "def build_model(vocab_size, embedding_dim, rnn_units, batch_size):\n",
    "    model = tf.keras.Sequential([\n",
    "        tf.keras.layers.Embedding(vocab_size, embedding_dim,\n",
    "                              batch_input_shape=[batch_size, None]),\n",
    "        tf.keras.layers.LSTM(rnn_units,\n",
    "                        return_sequences=True,\n",
    "                        stateful=True,\n",
    "                        recurrent_initializer='glorot_uniform'),\n",
    "        tf.keras.layers.Dense(vocab_size)\n",
    "    ])\n",
    "    return model\n",
    "\n",
    "VOCAB_SIZE = 4\n",
    "EMBEDDING_DIM = 32\n",
    "RNN_UNITS = 1024"
   ]
  },
  {
   "cell_type": "code",
   "execution_count": null,
   "id": "48dc9f78",
   "metadata": {},
   "outputs": [],
   "source": [
    "model = build_model(VOCAB_SIZE, EMBEDDING_DIM, RNN_UNITS, BATCH_SIZE)\n",
    "\n",
    "model.compile(optimizer='adam', loss='sparse_categorical_crossentropy', metrics=['accuracy'])"
   ]
  },
  {
   "cell_type": "code",
   "execution_count": null,
   "id": "4bf8145f",
   "metadata": {},
   "outputs": [],
   "source": [
    "model.summary()"
   ]
  },
  {
   "cell_type": "code",
   "execution_count": null,
   "id": "f55e8f3f",
   "metadata": {},
   "outputs": [],
   "source": [
    "model.fit(data,epochs = 10) \n",
    "#next attempt check what datasets can go into this function, make sure I am puttin the right stuff"
   ]
  },
  {
   "cell_type": "code",
   "execution_count": null,
   "id": "99a8510c",
   "metadata": {},
   "outputs": [],
   "source": [
    "model.input_shape"
   ]
  },
  {
   "cell_type": "code",
   "execution_count": null,
   "id": "5b877c1f",
   "metadata": {},
   "outputs": [],
   "source": []
  },
  {
   "cell_type": "code",
   "execution_count": null,
   "id": "0b3d82d0",
   "metadata": {},
   "outputs": [],
   "source": []
  }
 ],
 "metadata": {
  "kernelspec": {
   "display_name": "Python 3 (ipykernel)",
   "language": "python",
   "name": "python3"
  },
  "language_info": {
   "codemirror_mode": {
    "name": "ipython",
    "version": 3
   },
   "file_extension": ".py",
   "mimetype": "text/x-python",
   "name": "python",
   "nbconvert_exporter": "python",
   "pygments_lexer": "ipython3",
   "version": "3.9.16"
  }
 },
 "nbformat": 4,
 "nbformat_minor": 5
}
