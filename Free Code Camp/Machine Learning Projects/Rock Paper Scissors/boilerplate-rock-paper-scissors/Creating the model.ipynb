{
 "cells": [
  {
   "cell_type": "code",
   "execution_count": 1,
   "id": "e87a81e7",
   "metadata": {},
   "outputs": [],
   "source": [
    "import pandas as pd\n",
    "import numpy as np\n",
    "# Read the csv file\n",
    "df = pd.read_csv('data.csv', header=None)\n",
    "\n",
    "# Remove empty rows\n",
    "df = df.replace(np.nan,0)\n",
    "\n",
    "# Convert the dataframe to a numpy array\n",
    "data = df.to_numpy()"
   ]
  },
  {
   "cell_type": "code",
   "execution_count": 2,
   "id": "0f67916e",
   "metadata": {},
   "outputs": [
    {
     "data": {
      "text/plain": [
       "array([[0.0, 'R', 'P', ..., 'R', 'R', 'R']], dtype=object)"
      ]
     },
     "execution_count": 2,
     "metadata": {},
     "output_type": "execute_result"
    }
   ],
   "source": [
    "data"
   ]
  },
  {
   "cell_type": "code",
   "execution_count": 13,
   "id": "61088953",
   "metadata": {},
   "outputs": [
    {
     "data": {
      "text/plain": [
       "(1, 200000)"
      ]
     },
     "execution_count": 13,
     "metadata": {},
     "output_type": "execute_result"
    }
   ],
   "source": [
    "data.shape"
   ]
  },
  {
   "cell_type": "code",
   "execution_count": 9,
   "id": "0c7e7194",
   "metadata": {},
   "outputs": [],
   "source": [
    "Mapping = {'R':1,'P':2,'S':3}\n",
    "\n",
    "def map_values(x):\n",
    "    return Mapping.get(x, x)"
   ]
  },
  {
   "cell_type": "code",
   "execution_count": 14,
   "id": "8c5830c6",
   "metadata": {},
   "outputs": [
    {
     "ename": "NameError",
     "evalue": "name 'v' is not defined",
     "output_type": "error",
     "traceback": [
      "\u001b[1;31m---------------------------------------------------------------------------\u001b[0m",
      "\u001b[1;31mNameError\u001b[0m                                 Traceback (most recent call last)",
      "Cell \u001b[1;32mIn[14], line 1\u001b[0m\n\u001b[1;32m----> 1\u001b[0m converted_data \u001b[38;5;241m=\u001b[39m np\u001b[38;5;241m.\u001b[39marray([Mapping[i] \u001b[38;5;28;01mfor\u001b[39;00m i \u001b[38;5;129;01min\u001b[39;00m \u001b[43mv\u001b[49m \u001b[38;5;28;01mfor\u001b[39;00m v \u001b[38;5;129;01min\u001b[39;00m data])\n",
      "\u001b[1;31mNameError\u001b[0m: name 'v' is not defined"
     ]
    }
   ],
   "source": [
    "vectorized_map_values = np.vectorize(map_values)\n",
    "converted_data = vectorized_map_values(data)"
   ]
  },
  {
   "cell_type": "code",
   "execution_count": 11,
   "id": "47dbe7c1",
   "metadata": {},
   "outputs": [
    {
     "data": {
      "text/plain": [
       "array(<generator object <genexpr> at 0x0000021E5C74EFF0>, dtype=object)"
      ]
     },
     "execution_count": 11,
     "metadata": {},
     "output_type": "execute_result"
    }
   ],
   "source": [
    "converted_data"
   ]
  },
  {
   "cell_type": "code",
   "execution_count": null,
   "id": "106cd2c5",
   "metadata": {},
   "outputs": [],
   "source": []
  }
 ],
 "metadata": {
  "kernelspec": {
   "display_name": "Python 3 (ipykernel)",
   "language": "python",
   "name": "python3"
  },
  "language_info": {
   "codemirror_mode": {
    "name": "ipython",
    "version": 3
   },
   "file_extension": ".py",
   "mimetype": "text/x-python",
   "name": "python",
   "nbconvert_exporter": "python",
   "pygments_lexer": "ipython3",
   "version": "3.10.9"
  }
 },
 "nbformat": 4,
 "nbformat_minor": 5
}
