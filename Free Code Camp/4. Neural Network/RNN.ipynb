{
 "cells": [
  {
   "cell_type": "code",
   "execution_count": 8,
   "id": "2848ab9b",
   "metadata": {},
   "outputs": [],
   "source": [
    "\n",
    "from keras.datasets import imdb\n",
    "from keras.utils import pad_sequences\n",
    "import keras\n",
    "import tensorflow as tf\n",
    "import os\n",
    "import numpy as np\n",
    "\n",
    "VOCAB_SIZE = 88584\n",
    "\n",
    "MAXLEN = 250\n",
    "BATCH_SIZE = 64\n",
    "\n",
    "(train_data, train_labels), (test_data, test_labels) = imdb.load_data(num_words = VOCAB_SIZE)"
   ]
  },
  {
   "cell_type": "code",
   "execution_count": 10,
   "id": "c9cf51b4",
   "metadata": {},
   "outputs": [
    {
     "data": {
      "text/plain": [
       "array([    0,     0,     0,     0,     0,     0,     0,     0,     0,\n",
       "           0,     0,     0,     0,     0,     0,     0,     0,     0,\n",
       "           0,     0,     0,     0,     0,     0,     0,     0,     0,\n",
       "           0,     0,     0,     0,     0,     0,     0,     0,     0,\n",
       "           0,     0,     0,     0,     0,     0,     0,     0,     0,\n",
       "           0,     0,     0,     0,     0,     0,     0,     0,     0,\n",
       "           0,     0,     0,     0,     0,     0,     0,     1,   194,\n",
       "        1153,   194,  8255,    78,   228,     5,     6,  1463,  4369,\n",
       "        5012,   134,    26,     4,   715,     8,   118,  1634,    14,\n",
       "         394,    20,    13,   119,   954,   189,   102,     5,   207,\n",
       "         110,  3103,    21,    14,    69,   188,     8,    30,    23,\n",
       "           7,     4,   249,   126,    93,     4,   114,     9,  2300,\n",
       "        1523,     5,   647,     4,   116,     9,    35,  8163,     4,\n",
       "         229,     9,   340,  1322,     4,   118,     9,     4,   130,\n",
       "        4901,    19,     4,  1002,     5,    89,    29,   952,    46,\n",
       "          37,     4,   455,     9,    45,    43,    38,  1543,  1905,\n",
       "         398,     4,  1649,    26,  6853,     5,   163,    11,  3215,\n",
       "       10156,     4,  1153,     9,   194,   775,     7,  8255, 11596,\n",
       "         349,  2637,   148,   605, 15358,  8003,    15,   123,   125,\n",
       "          68, 23141,  6853,    15,   349,   165,  4362,    98,     5,\n",
       "           4,   228,     9,    43, 36893,  1157,    15,   299,   120,\n",
       "           5,   120,   174,    11,   220,   175,   136,    50,     9,\n",
       "        4373,   228,  8255,     5, 25249,   656,   245,  2350,     5,\n",
       "           4,  9837,   131,   152,   491,    18, 46151,    32,  7464,\n",
       "        1212,    14,     9,     6,   371,    78,    22,   625,    64,\n",
       "        1382,     9,     8,   168,   145,    23,     4,  1690,    15,\n",
       "          16,     4,  1355,     5,    28,     6,    52,   154,   462,\n",
       "          33,    89,    78,   285,    16,   145,    95])"
      ]
     },
     "execution_count": 10,
     "metadata": {},
     "output_type": "execute_result"
    }
   ],
   "source": [
    "train_data[1] #here we are viewing one review"
   ]
  },
  {
   "cell_type": "code",
   "execution_count": 9,
   "id": "3e55a12c",
   "metadata": {},
   "outputs": [],
   "source": [
    "train_data = pad_sequences(train_data, MAXLEN) #here we are trimming and padding the neural networks\n",
    "test_data = pad_sequences(test_data, MAXLEN) #we are doing this to make sure all reviews are all the same size"
   ]
  },
  {
   "cell_type": "code",
   "execution_count": 11,
   "id": "0c21d688",
   "metadata": {},
   "outputs": [],
   "source": [
    "#creating model\n",
    "model = tf.keras.Sequential([\n",
    "    tf.keras.layers.Embedding(VOCAB_SIZE, 32),\n",
    "    tf.keras.layers.LSTM(32),\n",
    "    tf.keras.layers.Dense(1, activation=\"sigmoid\")\n",
    "])\n",
    "#we have one node, because we are using it to evaluate whether the movie review is a good review or a bad one\n",
    "#0 bad 1 good "
   ]
  },
  {
   "cell_type": "code",
   "execution_count": 12,
   "id": "736faee4",
   "metadata": {},
   "outputs": [
    {
     "name": "stdout",
     "output_type": "stream",
     "text": [
      "Model: \"sequential\"\n",
      "_________________________________________________________________\n",
      " Layer (type)                Output Shape              Param #   \n",
      "=================================================================\n",
      " embedding (Embedding)       (None, None, 32)          2834688   \n",
      "                                                                 \n",
      " lstm (LSTM)                 (None, 32)                8320      \n",
      "                                                                 \n",
      " dense (Dense)               (None, 1)                 33        \n",
      "                                                                 \n",
      "=================================================================\n",
      "Total params: 2,843,041\n",
      "Trainable params: 2,843,041\n",
      "Non-trainable params: 0\n",
      "_________________________________________________________________\n"
     ]
    }
   ],
   "source": [
    "model.summary()"
   ]
  },
  {
   "cell_type": "code",
   "execution_count": 13,
   "id": "d94ce3b7",
   "metadata": {},
   "outputs": [
    {
     "name": "stdout",
     "output_type": "stream",
     "text": [
      "Epoch 1/10\n",
      "625/625 [==============================] - 45s 70ms/step - loss: 0.4340 - acc: 0.7973 - val_loss: 0.3225 - val_acc: 0.8634\n",
      "Epoch 2/10\n",
      "625/625 [==============================] - 46s 74ms/step - loss: 0.2424 - acc: 0.9072 - val_loss: 0.3097 - val_acc: 0.8870\n",
      "Epoch 3/10\n",
      "625/625 [==============================] - 46s 74ms/step - loss: 0.1854 - acc: 0.9329 - val_loss: 0.2731 - val_acc: 0.8826\n",
      "Epoch 4/10\n",
      "625/625 [==============================] - 45s 72ms/step - loss: 0.1560 - acc: 0.9452 - val_loss: 0.2944 - val_acc: 0.8816\n",
      "Epoch 5/10\n",
      "625/625 [==============================] - 46s 73ms/step - loss: 0.1302 - acc: 0.9539 - val_loss: 0.2884 - val_acc: 0.8794\n",
      "Epoch 6/10\n",
      "625/625 [==============================] - 46s 74ms/step - loss: 0.1154 - acc: 0.9606 - val_loss: 0.3831 - val_acc: 0.8884\n",
      "Epoch 7/10\n",
      "625/625 [==============================] - 45s 72ms/step - loss: 0.1008 - acc: 0.9656 - val_loss: 0.3146 - val_acc: 0.8884\n",
      "Epoch 8/10\n",
      "625/625 [==============================] - 45s 72ms/step - loss: 0.0872 - acc: 0.9718 - val_loss: 0.3150 - val_acc: 0.8844\n",
      "Epoch 9/10\n",
      "625/625 [==============================] - 47s 74ms/step - loss: 0.0772 - acc: 0.9752 - val_loss: 0.3726 - val_acc: 0.8702\n",
      "Epoch 10/10\n",
      "625/625 [==============================] - 46s 74ms/step - loss: 0.0681 - acc: 0.9786 - val_loss: 0.3896 - val_acc: 0.8842\n"
     ]
    }
   ],
   "source": [
    "#binary crossentropy because there are two possible answers\n",
    "model.compile(loss=\"binary_crossentropy\",optimizer=\"rmsprop\",metrics=['acc'])\n",
    "#here we are training the model\n",
    "history = model.fit(train_data, train_labels, epochs=10, validation_split=0.2)"
   ]
  },
  {
   "cell_type": "code",
   "execution_count": 14,
   "id": "8a77b258",
   "metadata": {},
   "outputs": [
    {
     "name": "stdout",
     "output_type": "stream",
     "text": [
      "782/782 [==============================] - 16s 21ms/step - loss: 0.4828 - acc: 0.8600\n",
      "[0.48282891511917114, 0.8599600195884705]\n"
     ]
    }
   ],
   "source": [
    "results = model.evaluate(test_data, test_labels)\n",
    "print(results)\n",
    "#here we are testing our model"
   ]
  },
  {
   "cell_type": "code",
   "execution_count": 16,
   "id": "313a890e",
   "metadata": {},
   "outputs": [
    {
     "name": "stdout",
     "output_type": "stream",
     "text": [
      "[  0   0   0   0   0   0   0   0   0   0   0   0   0   0   0   0   0   0\n",
      "   0   0   0   0   0   0   0   0   0   0   0   0   0   0   0   0   0   0\n",
      "   0   0   0   0   0   0   0   0   0   0   0   0   0   0   0   0   0   0\n",
      "   0   0   0   0   0   0   0   0   0   0   0   0   0   0   0   0   0   0\n",
      "   0   0   0   0   0   0   0   0   0   0   0   0   0   0   0   0   0   0\n",
      "   0   0   0   0   0   0   0   0   0   0   0   0   0   0   0   0   0   0\n",
      "   0   0   0   0   0   0   0   0   0   0   0   0   0   0   0   0   0   0\n",
      "   0   0   0   0   0   0   0   0   0   0   0   0   0   0   0   0   0   0\n",
      "   0   0   0   0   0   0   0   0   0   0   0   0   0   0   0   0   0   0\n",
      "   0   0   0   0   0   0   0   0   0   0   0   0   0   0   0   0   0   0\n",
      "   0   0   0   0   0   0   0   0   0   0   0   0   0   0   0   0   0   0\n",
      "   0   0   0   0   0   0   0   0   0   0   0   0   0   0   0   0   0   0\n",
      "   0   0   0   0   0   0   0   0   0   0   0   0   0   0   0   0   0   0\n",
      "   0   0   0   0   0   0   0   0   0  12  17  13  40 477  35 477]\n"
     ]
    }
   ],
   "source": [
    "#making predictions\n",
    "#in this module we are encoding words into the same form as they were written in the given dataset\n",
    "word_index = imdb.get_word_index()\n",
    "\n",
    "def encode_text(text):\n",
    "    tokens = keras.preprocessing.text.text_to_word_sequence(text)\n",
    "    tokens = [word_index[word] if word in word_index else 0 for word in tokens]\n",
    "    return pad_sequences([tokens], MAXLEN)[0]\n",
    "\n",
    "text = \"that movie was just amazing, so amazing\"\n",
    "encoded = encode_text(text)\n",
    "print(encoded)\n"
   ]
  },
  {
   "cell_type": "code",
   "execution_count": 17,
   "id": "6eaa50dd",
   "metadata": {},
   "outputs": [
    {
     "name": "stdout",
     "output_type": "stream",
     "text": [
      "that movie was just amazing so amazing\n"
     ]
    }
   ],
   "source": [
    "# this is the decode function\n",
    "\n",
    "reverse_word_index = {value: key for (key, value) in word_index.items()}\n",
    "\n",
    "def decode_integers(integers):\n",
    "    PAD = 0\n",
    "    text = \"\"\n",
    "    for num in integers:\n",
    "        if num != PAD:\n",
    "            text += reverse_word_index[num] + \" \"\n",
    "\n",
    "    return text[:-1]\n",
    "  \n",
    "print(decode_integers(encoded))"
   ]
  },
  {
   "cell_type": "code",
   "execution_count": 18,
   "id": "925a5603",
   "metadata": {},
   "outputs": [
    {
     "name": "stdout",
     "output_type": "stream",
     "text": [
      "1/1 [==============================] - 0s 305ms/step\n",
      "[0.9396122]\n",
      "1/1 [==============================] - 0s 36ms/step\n",
      "[0.25142288]\n"
     ]
    }
   ],
   "source": [
    "# now time to make a prediction\n",
    "\n",
    "def predict(text):\n",
    "    encoded_text = encode_text(text)\n",
    "    pred = np.zeros((1,250))\n",
    "    pred[0] = encoded_text\n",
    "    result = model.predict(pred) \n",
    "    print(result[0])\n",
    "\n",
    "positive_review = \"That movie was! really loved it and would great watch it again because it was amazingly great\"\n",
    "predict(positive_review)\n",
    "\n",
    "negative_review = \"that movie really sucked. I hated it and wouldn't watch it again. Was one of the worst things I've ever watched\"\n",
    "predict(negative_review)\n"
   ]
  },
  {
   "cell_type": "code",
   "execution_count": null,
   "id": "58dc9145",
   "metadata": {},
   "outputs": [],
   "source": []
  },
  {
   "cell_type": "code",
   "execution_count": null,
   "id": "34f72ebd",
   "metadata": {},
   "outputs": [],
   "source": []
  },
  {
   "cell_type": "code",
   "execution_count": null,
   "id": "f95813b4",
   "metadata": {},
   "outputs": [],
   "source": []
  },
  {
   "cell_type": "code",
   "execution_count": null,
   "id": "52d98e75",
   "metadata": {},
   "outputs": [],
   "source": []
  },
  {
   "cell_type": "code",
   "execution_count": null,
   "id": "339159b1",
   "metadata": {},
   "outputs": [],
   "source": []
  },
  {
   "cell_type": "code",
   "execution_count": null,
   "id": "65801c88",
   "metadata": {},
   "outputs": [],
   "source": []
  }
 ],
 "metadata": {
  "kernelspec": {
   "display_name": "Python 3 (ipykernel)",
   "language": "python",
   "name": "python3"
  },
  "language_info": {
   "codemirror_mode": {
    "name": "ipython",
    "version": 3
   },
   "file_extension": ".py",
   "mimetype": "text/x-python",
   "name": "python",
   "nbconvert_exporter": "python",
   "pygments_lexer": "ipython3",
   "version": "3.10.9"
  }
 },
 "nbformat": 4,
 "nbformat_minor": 5
}
